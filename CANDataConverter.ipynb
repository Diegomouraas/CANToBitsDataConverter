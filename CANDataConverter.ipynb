{
  "nbformat": 4,
  "nbformat_minor": 0,
  "metadata": {
    "colab": {
      "name": "CANDataConverter.ipynb",
      "provenance": [],
      "collapsed_sections": [],
      "mount_file_id": "1n-OH_hCrI1dR0YACXyfDPDrlNSYSnOFO",
      "authorship_tag": "ABX9TyMzx8Cm4Y1ZnpTFJDVkUlgr"
    },
    "kernelspec": {
      "name": "python3",
      "display_name": "Python 3"
    },
    "language_info": {
      "name": "python"
    }
  },
  "cells": [
    {
      "cell_type": "code",
      "execution_count": 1,
      "metadata": {
        "id": "tidnHs0rvcyn"
      },
      "outputs": [],
      "source": [
        "import numpy as np\n",
        "import matplotlib as plt\n"
      ]
    },
    {
      "cell_type": "code",
      "source": [
        "with open('/content/drive/MyDrive/Colab Notebooks/CANDC/Teste.txt', 'r') as tx:\n",
        "  rData = tx.readlines()\n",
        "  print(rData[5])"
      ],
      "metadata": {
        "colab": {
          "base_uri": "https://localhost:8080/"
        },
        "id": "jlMhPo5OxJ5s",
        "outputId": "bf3aa185-b24d-4d05-b15f-cf5d367097bf"
      },
      "execution_count": 16,
      "outputs": [
        {
          "output_type": "stream",
          "name": "stdout",
          "text": [
            "0.2447\n",
            "\n"
          ]
        }
      ]
    },
    {
      "cell_type": "code",
      "source": [
        ""
      ],
      "metadata": {
        "id": "WIsbTFlD0nQd"
      },
      "execution_count": null,
      "outputs": []
    }
  ]
}